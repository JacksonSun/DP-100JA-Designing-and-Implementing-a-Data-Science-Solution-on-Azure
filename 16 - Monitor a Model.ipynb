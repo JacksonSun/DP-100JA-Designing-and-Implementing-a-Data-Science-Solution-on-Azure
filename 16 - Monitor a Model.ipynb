{
  "cells": [
    {
      "cell_type": "markdown",
      "metadata": {},
      "source": [
        "# モデルを監視する\r\n",
        "\r\n",
        "モデルをサービスとして運用環境にデプロイしたら、モデルを監視して使用状況を追跡し、処理する要求を調査します。Azure Application Insights を使用すると、モデル サービス エンドポイントのアクティビティを監視できます。"
      ]
    },
    {
      "cell_type": "markdown",
      "metadata": {},
      "source": [
        "## ワークスペースに接続する\r\n",
        "\r\n",
        "作業を開始するには、ワークスペースに接続します。\r\n",
        "\r\n",
        "> **注**: Azure サブスクリプションでまだ認証済みのセッションを確立していない場合は、リンクをクリックして認証コードを入力し、Azure にサインインして認証するよう指示されます。"
      ]
    },
    {
      "cell_type": "code",
      "execution_count": null,
      "metadata": {},
      "outputs": [],
      "source": [
        "from azureml.core import Workspace\n",
        "\n",
        "# 保存された構成ファイルからワークスペースを読み込む\r\n",
        "ws = Workspace.from_config()\n",
        "print('Ready to work with', ws.name)"
      ]
    },
    {
      "cell_type": "markdown",
      "metadata": {},
      "source": [
        "## モデルをデプロイできるよう準備する\r\n",
        "\r\n",
        "次に、デプロイするモデルが必要です。次のコードを実行します。\r\n",
        "\r\n",
        "1. データセットを作成して登録します。\r\n",
        "2. データセットを使用してモデルをトレーニングします。\r\n",
        "3. モデルを登録します。"
      ]
    },
    {
      "cell_type": "code",
      "execution_count": null,
      "metadata": {},
      "outputs": [],
      "source": [
        "from azureml.core import Experiment\n",
        "from azureml.core import Model\n",
        "import pandas as pd\n",
        "import numpy as np\n",
        "import joblib\n",
        "from sklearn.model_selection import train_test_split\n",
        "from sklearn.tree import DecisionTreeClassifier\n",
        "from sklearn.metrics import roc_auc_score, roc_curve\n",
        "from azureml.core import Dataset\n",
        "\n",
        "# データ ファイルを既定のデータストアにアップロードする\r\n",
        "default_ds = ws.get_default_datastore()\n",
        "default_ds.upload_files(files=['./data/diabetes.csv', './data/diabetes2.csv'],\n",
        "                       target_path='diabetes-data/',\n",
        "                       overwrite=True,\n",
        "                       show_progress=True)\n",
        "\n",
        "#データストア上のパスから表形式のデータセットを作成する\r\n",
        "print('Creating dataset...')\n",
        "data_set = Dataset.Tabular.from_delimited_files(path=(default_ds, 'diabetes-data/*.csv'))\n",
        "\n",
        "# 表形式のデータセットを登録する\r\n",
        "print('Registering dataset...')\n",
        "try:\n",
        "    data_set = data_set.register(workspace=ws, \n",
        "                               name='diabetes dataset',\n",
        "                               description='diabetes data',\n",
        "                               tags = {'format':'CSV'},\n",
        "                               create_new_version=True)\n",
        "except Exception as ex:\n",
        "    print(ex)\n",
        "\n",
        "# ワークスペースで Azure 実験を作成する\r\n",
        "experiment = Experiment(workspace=ws, name='mslearn-train-diabetes')\n",
        "run = experiment.start_logging()\n",
        "print(\"Starting experiment:\", experiment.name)\n",
        "\n",
        "# 糖尿病データセットを読み込む\r\n",
        "print(\"Loading Data...\")\n",
        "diabetes = data_set.to_pandas_dataframe()\n",
        "\n",
        "# 特徴とラベルを分離する\r\n",
        "X, y = diabetes[['Pregnancies','PlasmaGlucose','DiastolicBloodPressure','TricepsThickness','SerumInsulin','BMI','DiabetesPedigree','Age']].values, diabetes['Diabetic'].values\n",
        "\n",
        "# データをトレーニング セットとテスト セットに分割する\r\n",
        "X_train, X_test, y_train, y_test = train_test_split(X, y, test_size=0.30, random_state=0)\n",
        "\n",
        "# デシジョン ツリー モデルをトレーニングする\r\n",
        "print('Training a decision tree model')\n",
        "model = DecisionTreeClassifier().fit(X_train, y_train)\n",
        "\n",
        "# 精度を計算する\r\n",
        "y_hat = model.predict(X_test)\n",
        "acc = np.average(y_hat == y_test)\n",
        "print('Accuracy:', acc)\n",
        "run.log('Accuracy', np.float(acc))\n",
        "\n",
        "# AUC を計算する\r\n",
        "y_scores = model.predict_proba(X_test)\n",
        "auc = roc_auc_score(y_test,y_scores[:,1])\n",
        "print('AUC: ' + str(auc))\n",
        "run.log('AUC', np.float(auc))\n",
        "\n",
        "# トレーニング済みモデルを保存する\r\n",
        "model_file = 'diabetes_model.pkl'\n",
        "joblib.dump(value=model, filename=model_file)\n",
        "run.upload_file(name = 'outputs/' + model_file, path_or_stream = './' + model_file)\n",
        "\n",
        "# 実行を完了する\r\n",
        "run.complete()\n",
        "\n",
        "# モデルを登録する\r\n",
        "print('Registering model...')\n",
        "run.register_model(model_path='outputs/diabetes_model.pkl', model_name='diabetes_model',\n",
        "                   tags={'Training context':'Inline Training'},\n",
        "                   properties={'AUC': run.get_metrics()['AUC'], 'Accuracy': run.get_metrics()['Accuracy']})\n",
        "\n",
        "# 登録済みモデルを取得する\r\n",
        "model = ws.models['diabetes_model']\n",
        "\n",
        "print('Model trained and registered.')"
      ]
    },
    {
      "cell_type": "markdown",
      "metadata": {},
      "source": [
        "## モデルを Web サービスとしてデプロイする\r\n",
        "\r\n",
        "これで、登録済みモデルを Web サービスとしてデプロイする準備が整いました。\r\n",
        "\r\n",
        "最初に、展開構成ファイル用フォルダーを作成します"
      ]
    },
    {
      "cell_type": "code",
      "execution_count": null,
      "metadata": {},
      "outputs": [],
      "source": [
        "import os\n",
        "\n",
        "folder_name = 'diabetes_service'\n",
        "\n",
        "# Web サービス ファイル用フォルダーを作成する\r\n",
        "experiment_folder = './' + folder_name\n",
        "os.makedirs(experiment_folder, exist_ok=True)\n",
        "\n",
        "print(folder_name, 'folder created.')\n",
        "\n",
        "# スクリプトと環境ファイルをスコアリングするためのパスを設定する\r\n",
        "script_file = os.path.join(experiment_folder,\"score_diabetes.py\")\n",
        "env_file = os.path.join(experiment_folder,\"diabetes_env.yml\")"
      ]
    },
    {
      "cell_type": "markdown",
      "metadata": {},
      "source": [
        "次に、サービスが新しいデータのスコアリングに使用するエントリ スクリプトが必要です。"
      ]
    },
    {
      "cell_type": "code",
      "execution_count": null,
      "metadata": {},
      "outputs": [],
      "source": [
        "%%writefile $script_file\n",
        "import json\n",
        "import joblib\n",
        "import numpy as np\n",
        "from azureml.core.model import Model\n",
        "\n",
        "# サービスの読み込み時に呼び出される\r\n",
        "def init():\n",
        "    global model\n",
        "    # Get the path to the deployed model file and load it\n",
        "    model_path = Model.get_model_path('diabetes_model')\n",
        "    model = joblib.load(model_path)\n",
        "\n",
        "# 要求の受信時に呼び出される\r\n",
        "def run(raw_data):\n",
        "    # Get the input data as a numpy array\n",
        "    data = json.loads(raw_data)['data']\n",
        "    np_data = np.array(data)\n",
        "    # Get a prediction from the model\n",
        "    predictions = model.predict(np_data)\n",
        "    \n",
        "    # print the data and predictions (so they'll be logged!)\n",
        "    log_text = 'Data:' + str(data) + ' - Predictions:' + str(predictions)\n",
        "    print(log_text)\n",
        "    \n",
        "    # Get the corresponding classname for each prediction (0 or 1)\n",
        "    classnames = ['not-diabetic', 'diabetic']\n",
        "    predicted_classes = []\n",
        "    for prediction in predictions:\n",
        "        predicted_classes.append(classnames[prediction])\n",
        "    # Return the predictions as JSON\n",
        "    return json.dumps(predicted_classes)"
      ]
    },
    {
      "cell_type": "markdown",
      "metadata": {},
      "source": [
        "また、サービス環境用の Conda 構成ファイルも必要です。"
      ]
    },
    {
      "cell_type": "code",
      "execution_count": null,
      "metadata": {
        "scrolled": true
      },
      "outputs": [],
      "source": [
        "%%writefile $env_file\n",
        "name: inference_env\n",
        "dependencies:\n",
        "- python=3.6.2\n",
        "- scikit-learn\n",
        "- pip\n",
        "- pip:\n",
        "  - azureml-defaults\n"
      ]
    },
    {
      "cell_type": "markdown",
      "metadata": {},
      "source": [
        "これで、サービスをデプロイできます (この場合は Azure Container Instances (ACI) として)。\r\n",
        "\r\n",
        "> **注**: これには数分かかる場合があります。状態が**正常**と表示されるまで待ちます。"
      ]
    },
    {
      "cell_type": "code",
      "execution_count": null,
      "metadata": {},
      "outputs": [],
      "source": [
        "from azureml.core.webservice import AciWebservice, Webservice\n",
        "from azureml.core.model import Model\n",
        "from azureml.core.model import InferenceConfig\n",
        "\n",
        "# スコアリング環境を構成する\r\n",
        "inference_config = InferenceConfig(runtime= \"python\",\n",
        "                                   entry_script=script_file,\n",
        "                                   conda_file=env_file)\n",
        "\n",
        "service_name = \"diabetes-service-app-insights\"\n",
        "deployment_config = AciWebservice.deploy_configuration(cpu_cores = 1, memory_gb = 1)\n",
        "aci_service = Model.deploy(workspace=ws,\n",
        "                           name= service_name,\n",
        "                           models= [model],\n",
        "                           inference_config= inference_config,\n",
        "                           deployment_config=deployment_config)\n",
        "aci_service.wait_for_deployment(show_output = True)\n",
        "print(aci_service.state)"
      ]
    },
    {
      "cell_type": "markdown",
      "metadata": {},
      "source": [
        "## Application Insights を有効にする\r\n",
        "\r\n",
        "次に、サービスの Application Insights を有効にする必要があります。"
      ]
    },
    {
      "cell_type": "code",
      "execution_count": null,
      "metadata": {},
      "outputs": [],
      "source": [
        "# AppInsights を有効にする\r\n",
        "aci_service.update(enable_app_insights=True)\n",
        "print('AppInsights enabled!')"
      ]
    },
    {
      "cell_type": "markdown",
      "metadata": {},
      "source": [
        "## Web サービスを使用する\r\n",
        "\r\n",
        "サービスをデプロイしたら、クライアント アプリケーションからサービスを使用できます。\r\n",
        "\r\n",
        "まず、これらのアプリケーションが要求を送信する URL を決定します。"
      ]
    },
    {
      "cell_type": "code",
      "execution_count": null,
      "metadata": {},
      "outputs": [],
      "source": [
        "endpoint = aci_service.scoring_uri\n",
        "print(endpoint)"
      ]
    },
    {
      "cell_type": "markdown",
      "metadata": {},
      "source": [
        "エンドポイント URI がわかったので、アプリケーションは HTTP 要求を行い、患者データを JSON (またはバイナリ) 形式で送信し、予測されたクラスを受け取ることができます。\r\n",
        "\r\n",
        "> **ヒント**: サービス エンドポイントの準備が整っていないためエラーが発生した場合。数秒待ってからもう一度やり直してください!"
      ]
    },
    {
      "cell_type": "code",
      "execution_count": null,
      "metadata": {
        "scrolled": true
      },
      "outputs": [],
      "source": [
        "import requests\n",
        "import json\n",
        "\n",
        "# 推論用の新しいデータを作成する\r\n",
        "x_new = [[2,180,74,24,21,23.9091702,1.488172308,22],\n",
        "         [0,148,58,11,179,39.19207553,0.160829008,45]]\n",
        "\n",
        "# JSON ドキュメントでシリアル化可能なリストに配列を変換する\r\n",
        "input_json = json.dumps({\"data\": x_new})\n",
        "\n",
        "# コンテンツ タイプを設定する\r\n",
        "headers = { 'Content-Type':'application/json' }\n",
        "\n",
        "# 予測を得る\r\n",
        "predictions = requests.post(endpoint, input_json, headers = headers)\n",
        "print(predictions.status_code)\n",
        "if predictions.status_code == 200:\n",
        "    predicted_classes = json.loads(predictions.json())\n",
        "    for i in range(len(x_new)):\n",
        "        print (\"Patient {}\".format(x_new[i]), predicted_classes[i] )"
      ]
    },
    {
      "cell_type": "markdown",
      "metadata": {},
      "source": [
        "これで、サービス エンドポイントにについて記録されたデータを表示できます。\r\n",
        "\r\n",
        "1. [Azure portal](https://portal.azure.com) で、Machine Learning ワークスペースを開きます。\r\n",
        "2. **概要**ページで、関連付けられている **Application Insights** リソースのリンクをクリックします。\r\n",
        "3. Application Insights ブレードで、**ログ**をクリックします。 \r\n",
        "\r\n",
        "    > **注意**: 初めてログ分析を開く場合は、**はじめに**をクリックして、クエリ エディターを開く必要があります。クエリの書き込み方法を説明するヒントが表示されたら、それを閉じます。\r\n",
        "\r\n",
        "4. 次のクエリをクエリ ウィンドウに貼り付けて、**実行**をクリックします\r\n",
        "    ```\r\n",
        "    traces\r\n",
        "    |where  message == \"STDOUT\"\r\n",
        "      and customDimensions.[\"Service Name\"] == \"diabetes-service-app-insights\"\r\n",
        "    |project timestamp, customDimensions.Content\r\n",
        "    ```\r\n",
        "5. 結果を表示します。ACI Web サービスは、テレメトリを Application Insights に送信するのに 5 分かかる場合があるため、最初は何も存在しない場合があります。数分待ってから、ログに記録されたデータと予測が表示されるまでクエリを再実行します。\r\n",
        "6. ログに記録されたデータを確認したら、Application Insights クエリ ページを閉じます。"
      ]
    },
    {
      "cell_type": "markdown",
      "metadata": {},
      "source": [
        "## サービスを削除する\r\n",
        "\r\n",
        "不要になったサービスは削除する必要があります。\r\n",
        "\r\n",
        "> **注**: サービスが使用中の場合は、すぐに削除できないことがあります。"
      ]
    },
    {
      "cell_type": "code",
      "execution_count": null,
      "metadata": {},
      "outputs": [],
      "source": [
        "try:\n",
        "    aci_service.delete()\n",
        "    print('Service deleted.')\n",
        "except Exception as ex:\n",
        "    print(ex.message)"
      ]
    },
    {
      "cell_type": "markdown",
      "metadata": {},
      "source": [
        "Application Insights を使用してデプロイされたサービスを監視する方法の詳細については、[Azure Machine Learning のドキュメント](https://docs.microsoft.com/azure/machine-learning/how-to-enable-app-insights)を参照してください。"
      ]
    }
  ],
  "metadata": {
    "kernelspec": {
      "display_name": "Python 3.6 - AzureML",
      "language": "python",
      "name": "python3-azureml"
    },
    "language_info": {
      "codemirror_mode": {
        "name": "ipython",
        "version": 3
      },
      "file_extension": ".py",
      "mimetype": "text/x-python",
      "name": "python",
      "nbconvert_exporter": "python",
      "pygments_lexer": "ipython3",
      "version": "3.6.9"
    }
  },
  "nbformat": 4,
  "nbformat_minor": 2
}