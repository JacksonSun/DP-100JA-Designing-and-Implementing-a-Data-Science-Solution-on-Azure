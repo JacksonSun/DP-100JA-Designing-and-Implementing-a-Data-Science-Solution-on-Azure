{
  "cells": [
    {
      "cell_type": "markdown",
      "metadata": {},
      "source": [
        "# モデルを解釈する\r\n",
        "\r\n",
        "Azure Machine Learning を使用して、各機能が予測ラベルに与える影響の量を定量化する *Explainer* を使用して、モデルを解釈できます。一般的な Explainer は多く、それぞれ異なる種類のモデリング アルゴリズムに適しています。ただし、それらを使用する基本的なアプローチは同じです。\r\n",
        "\r\n",
        "## SDK パッケージのインストール\r\n",
        "\r\n",
        "このノートブックのコードを実行するには、最新バージョンの **azureml-sdk** および **azureml-widgets** パッケージに加えて、**azureml-explain-model** パッケージが必要です。また、Azure ML 解釈可能性ライブラリ (**azureml-interpret**) も使用します。これを使用すると、Azure ML 実験でトレーニングされていない場合や、Azure ML ワークスペースに登録されていない場合でも、多くの一般的な種類のモデルを解釈できます。\r\n",
        "\r\n",
        "次のセルを実行して、これらのパッケージがインストールされていることを確認します。 "
      ]
    },
    {
      "cell_type": "code",
      "execution_count": null,
      "metadata": {},
      "outputs": [],
      "source": [
        "!pip show azureml-explain-model azureml-interpret"
      ]
    },
    {
      "cell_type": "markdown",
      "metadata": {},
      "source": [
        "## モデルを説明する\r\n",
        "\r\n",
        "Azure Machine Learning の外部でトレーニングされたモデルから始めましょう - 下のセルを実行して、デシジョン ツリー分類モデルをトレーニングします。"
      ]
    },
    {
      "cell_type": "code",
      "execution_count": null,
      "metadata": {},
      "outputs": [],
      "source": [
        "import pandas as pd\n",
        "import numpy as np\n",
        "import joblib\n",
        "from sklearn.model_selection import train_test_split\n",
        "from sklearn.tree import DecisionTreeClassifier\n",
        "from sklearn.metrics import roc_auc_score\n",
        "from sklearn.metrics import roc_curve\n",
        "\n",
        "# 糖尿病データセットを読み込む\r\n",
        "print(\"Loading Data...\")\n",
        "data = pd.read_csv('data/diabetes.csv')\n",
        "\n",
        "# 特徴とラベルを分離する\r\n",
        "features = ['Pregnancies','PlasmaGlucose','DiastolicBloodPressure','TricepsThickness','SerumInsulin','BMI','DiabetesPedigree','Age']\n",
        "labels = ['not-diabetic', 'diabetic']\n",
        "X, y = data[features].values, data['Diabetic'].values\n",
        "\n",
        "# データをトレーニング セットとテスト セットに分割する\r\n",
        "X_train, X_test, y_train, y_test = train_test_split(X, y, test_size=0.30, random_state=0)\n",
        "\n",
        "# デシジョン ツリー モデルをトレーニングする\r\n",
        "print('Training a decision tree model')\n",
        "model = DecisionTreeClassifier().fit(X_train, y_train)\n",
        "\n",
        "# 精度を計算する\r\n",
        "y_hat = model.predict(X_test)\n",
        "acc = np.average(y_hat == y_test)\n",
        "print('Accuracy:', acc)\n",
        "\n",
        "# AUC を計算する\r\n",
        "y_scores = model.predict_proba(X_test)\n",
        "auc = roc_auc_score(y_test,y_scores[:,1])\n",
        "print('AUC: ' + str(auc))\n",
        "\n",
        "print('Model trained.')"
      ]
    },
    {
      "cell_type": "markdown",
      "metadata": {},
      "source": [
        "トレーニング プロセスでは、ホールドバック検証データセットに基づいてモデル評価メトリックが生成されるため、予測の精度を把握できます。しかし、データの特徴は予測にどのような影響を与えるのでしょうか?"
      ]
    },
    {
      "cell_type": "markdown",
      "metadata": {},
      "source": [
        "### モデルの説明を取得する\r\n",
        "\r\n",
        "先にインストールした Azure ML の解釈可能性ライブラリから、モデルに適した Explainer を取得しましょう。Explainer には多くの種類があります。この例では、適切な [SHAP](https://github.com/slundberg/shap) モデル Explainer を呼び出すことによって、多くの種類のモデルを説明するために使用できる「ブラック ボックス」の説明である表形式の *Explainer* を使用します。"
      ]
    },
    {
      "cell_type": "code",
      "execution_count": null,
      "metadata": {},
      "outputs": [],
      "source": [
        "from interpret.ext.blackbox import TabularExplainer\n",
        "\n",
        "# 「特徴」と「クラス」フィールドはオプションです\r\n",
        "tab_explainer = TabularExplainer(model,\n",
        "                             X_train, \n",
        "                             features=features, \n",
        "                             classes=labels)\n",
        "print(tab_explainer, \"ready!\")"
      ]
    },
    {
      "cell_type": "markdown",
      "metadata": {},
      "source": [
        "### *グローバル*な特徴の重要度を取得する\r\n",
        "\r\n",
        "最初に行うことは、全体的な*特徴の重要度*を評価することによってモデルを説明しようとすることです - つまり、各特徴がトレーニング データセット全体に基づいて予測に影響を与える程度を定量化します。"
      ]
    },
    {
      "cell_type": "code",
      "execution_count": null,
      "metadata": {},
      "outputs": [],
      "source": [
        "# ここでトレーニング データまたはテスト データを使用できます\r\n",
        "global_tab_explanation = tab_explainer.explain_global(X_train)\n",
        "\n",
        "# 重要度別の上位の特徴を取得する\r\n",
        "global_tab_feature_importance = global_tab_explanation.get_feature_importance_dict()\n",
        "for feature, importance in global_tab_feature_importance.items():\n",
        "    print(feature,\":\", importance)"
      ]
    },
    {
      "cell_type": "markdown",
      "metadata": {},
      "source": [
        "特徴の重要度が順位付けされ、最も重要な機能が最初に表示されます。\r\n",
        "\r\n",
        "### *ローカル*な特徴の重要度を取得する\r\n",
        "\r\n",
        "全体的な見解がありますが、個々の観察を説明はどうですか? 可能性のある各ラベル値を予測する決定に各機能が影響を与えた程度を定量化して、個々の予測の*ローカル*説明を生成しましょう。この場合、バイナリ モデルであるため、2 つのラベル (糖尿病以外と糖尿病) があります。また、データセット内の個々の観測値に対するこれらのラベル値の各特徴の影響を定量化できます。テスト データセットの最初の 2 つのケースを評価するだけです。"
      ]
    },
    {
      "cell_type": "code",
      "execution_count": null,
      "metadata": {
        "scrolled": false
      },
      "outputs": [],
      "source": [
        "# 説明したい観測値を取得する (最初の 2 つ)\r\n",
        "X_explain = X_test[0:2]\n",
        "\n",
        "# 予測を取得する\r\n",
        "predictions = model.predict(X_explain)\n",
        "\n",
        "# ローカルな説明を取得する\r\n",
        "local_tab_explanation = tab_explainer.explain_local(X_explain)\n",
        "\n",
        "# 各ラベルの特徴の名前と重要度を取得する\r\n",
        "local_tab_features = local_tab_explanation.get_ranked_local_names()\n",
        "local_tab_importance = local_tab_explanation.get_ranked_local_values()\n",
        "\n",
        "for l in range(len(local_tab_features)):\n",
        "    print('Support for', labels[l])\n",
        "    label = local_tab_features[l]\n",
        "    for o in range(len(label)):\n",
        "        print(\"\\tObservation\", o + 1)\n",
        "        feature_list = label[o]\n",
        "        total_support = 0\n",
        "        for f in range(len(feature_list)):\n",
        "            print(\"\\t\\t\", feature_list[f], ':', local_tab_importance[l][o][f])\n",
        "            total_support += local_tab_importance[l][o][f]\n",
        "        print(\"\\t\\t ----------\\n\\t\\t Total:\", total_support, \"Prediction:\", labels[predictions[o]])"
      ]
    },
    {
      "cell_type": "markdown",
      "metadata": {},
      "source": [
        "## モデル トレーニング実験に説明可能性を追加する\r\n",
        "\r\n",
        "これまで見てきたように、Azure Machine Learning の外部でトレーニングされたモデルの説明を生成できます。ただし、Azure Machine Learning ワークスペースでモデルをトレーニングして登録するために実験を使用する場合は、モデルの説明を生成してログに記録できます。\r\n",
        "\r\n",
        "次のセルでコードを実行して、ワークスペースに接続します。\r\n",
        "\r\n",
        "> **注**: Azure サブスクリプションでまだ認証済みのセッションを確立していない場合は、リンクをクリックして認証コードを入力し、Azure にサインインして認証するよう指示されます。"
      ]
    },
    {
      "cell_type": "code",
      "execution_count": null,
      "metadata": {},
      "outputs": [],
      "source": [
        "import azureml.core\n",
        "from azureml.core import Workspace\n",
        "\n",
        "# 保存された構成ファイルからワークスペースを読み込む\r\n",
        "ws = Workspace.from_config()\n",
        "print('Ready to use Azure ML {} to work with {}'.format(azureml.core.VERSION, ws.name))"
      ]
    },
    {
      "cell_type": "markdown",
      "metadata": {},
      "source": [
        "### 実験を使用してモデルをトレーニングして説明する\r\n",
        "\r\n",
        "では、実験を作成して、必要なファイルをローカル フォルダーに配置しましょう - この場合、糖尿病データの同じ CSV ファイルを使用してモデルをトレーニングします。"
      ]
    },
    {
      "cell_type": "code",
      "execution_count": null,
      "metadata": {},
      "outputs": [],
      "source": [
        "import os, shutil\n",
        "from azureml.core import Experiment\n",
        "\n",
        "# 実験ファイル用フォルダーを作成する\r\n",
        "experiment_folder = 'diabetes_train_and_explain'\n",
        "os.makedirs(experiment_folder, exist_ok=True)\n",
        "\n",
        "# データ ファイルを実験フォルダーにコピーする\r\n",
        "shutil.copy('data/diabetes.csv', os.path.join(experiment_folder, \"diabetes.csv\"))"
      ]
    },
    {
      "cell_type": "markdown",
      "metadata": {},
      "source": [
        "次の特徴を含む以外 Azure ML トレーニング スクリプトと同様のトレーニング スクリプトを作成します。\r\n",
        "\r\n",
        "- 以前使用したモデルの説明を生成する同じライブラリがインポートされ、グローバルな説明を生成するために使用されます\r\n",
        "- **ExplanationClient** ライブラリを使用して、説明を実験出力にアップロードします"
      ]
    },
    {
      "cell_type": "code",
      "execution_count": null,
      "metadata": {},
      "outputs": [],
      "source": [
        "%%writefile $experiment_folder/diabetes_training.py\n",
        "# ライブラリをインポートする\r\n",
        "import pandas as pd\n",
        "import numpy as np\n",
        "import joblib\n",
        "import os\n",
        "from sklearn.model_selection import train_test_split\n",
        "from sklearn.tree import DecisionTreeClassifier\n",
        "from sklearn.metrics import roc_auc_score\n",
        "from sklearn.metrics import roc_curve\n",
        "\n",
        "# Azure ML 実行ライブラリをインポートする\r\n",
        "from azureml.core.run import Run\n",
        "\n",
        "# モデルの説明用ライブラリをインポートする\r\n",
        "from azureml.interpret import ExplanationClient\n",
        "from interpret.ext.blackbox import TabularExplainer\n",
        "\n",
        "# 実験実行コンテキストを取得する\r\n",
        "run = Run.get_context()\n",
        "\n",
        "# 糖尿病データセットを読み込む\r\n",
        "print(\"Loading Data...\")\n",
        "data = pd.read_csv('diabetes.csv')\n",
        "\n",
        "features = ['Pregnancies','PlasmaGlucose','DiastolicBloodPressure','TricepsThickness','SerumInsulin','BMI','DiabetesPedigree','Age']\n",
        "labels = ['not-diabetic', 'diabetic']\n",
        "\n",
        "# 特徴とラベルを分離する\r\n",
        "X, y = data[features].values, data['Diabetic'].values\n",
        "\n",
        "# データをトレーニング セットとテスト セットに分割する\r\n",
        "X_train, X_test, y_train, y_test = train_test_split(X, y, test_size=0.30, random_state=0)\n",
        "\n",
        "# デシジョン ツリー モデルをトレーニングする\r\n",
        "print('Training a decision tree model')\n",
        "model = DecisionTreeClassifier().fit(X_train, y_train)\n",
        "\n",
        "# 精度を計算する\r\n",
        "y_hat = model.predict(X_test)\n",
        "acc = np.average(y_hat == y_test)\n",
        "run.log('Accuracy', np.float(acc))\n",
        "\n",
        "# AUC を計算する\r\n",
        "y_scores = model.predict_proba(X_test)\n",
        "auc = roc_auc_score(y_test,y_scores[:,1])\n",
        "run.log('AUC', np.float(auc))\n",
        "\n",
        "os.makedirs('outputs', exist_ok=True)\n",
        "# 出力フォルダーに保存されたファイルは、自動的に実験レコードにアップロードされます\r\n",
        "joblib.dump(value=model, filename='outputs/diabetes.pkl')\n",
        "\n",
        "# 説明を取得する\r\n",
        "explainer = TabularExplainer(model, X_train, features=features, classes=labels)\n",
        "explanation = explainer.explain_global(X_test)\n",
        "\n",
        "# Explanation Client を取得し、説明をアップロードする\r\n",
        "explain_client = ExplanationClient.from_run(run)\n",
        "explain_client.upload_model_explanation(explanation, comment='Tabular Explanation')\n",
        "\n",
        "# 実行を完了する\r\n",
        "run.complete()"
      ]
    },
    {
      "cell_type": "markdown",
      "metadata": {},
      "source": [
        "これで実験を実行できます。トレーニング環境には **azureml-interpret** ライブラリが含まれているので、スクリプトは **TabularExplainer** を作成して **ExplainerClient** クラスを使用できる点に留意してください。"
      ]
    },
    {
      "cell_type": "code",
      "execution_count": null,
      "metadata": {},
      "outputs": [],
      "source": [
        "from azureml.core import Experiment, ScriptRunConfig, Environment\n",
        "from azureml.core.conda_dependencies import CondaDependencies\n",
        "from azureml.widgets import RunDetails\n",
        "\n",
        "\n",
        "# 実験用 Python 環境を作成する\r\n",
        "explain_env = Environment(\"explain-env\")\n",
        "\n",
        "# パッケージの依存関係のセットを作成する (azureml-interpret パッケージを含む)\r\n",
        "packages = CondaDependencies.create(conda_packages=['scikit-learn','pandas','pip'],\n",
        "                                    pip_packages=['azureml-defaults','azureml-interpret'])\n",
        "explain_env.python.conda_dependencies = packages\n",
        "\n",
        "# スクリプト構成を作成する\r\n",
        "script_config = ScriptRunConfig(source_directory=experiment_folder,\n",
        "                      script='diabetes_training.py',\n",
        "                      environment=explain_env) \n",
        "\n",
        "# 実験を送信する\r\n",
        "experiment_name = 'mslearn-diabetes-explain'\n",
        "experiment = Experiment(workspace=ws, name=experiment_name)\n",
        "run = experiment.submit(config=script_config)\n",
        "RunDetails(run).show()\n",
        "run.wait_for_completion()"
      ]
    },
    {
      "cell_type": "markdown",
      "metadata": {},
      "source": [
        "## 特徴の重要度の値を取得する\r\n",
        "\r\n",
        "実験の実行が完了したら、**ExplanationClient** クラスを使用して、実行用に登録された説明から特徴の重要度を取得できます。"
      ]
    },
    {
      "cell_type": "code",
      "execution_count": null,
      "metadata": {},
      "outputs": [],
      "source": [
        "from azureml.interpret import ExplanationClient\n",
        "\n",
        "# 特徴の説明を取得する\r\n",
        "client = ExplanationClient.from_run(run)\n",
        "engineered_explanations = client.download_model_explanation()\n",
        "feature_importances = engineered_explanations.get_feature_importance_dict()\n",
        "\n",
        "# 全体的な特徴の重要度\r\n",
        "print('Feature\\tImportance')\n",
        "for key, value in feature_importances.items():\n",
        "    print(key, '\\t', value)"
      ]
    },
    {
      "cell_type": "markdown",
      "metadata": {},
      "source": [
        "## Azure Machine Learning Studio でモデルの説明を表示する\r\n",
        "\r\n",
        "また、実行の詳細ウィジェットの**実行の詳細を表示**リンクをクリックすると、Azure Machine Learning Studio の実行が表示され、**説明**タブを表示できます。次に以下を実行します。\r\n",
        "\r\n",
        "1. 表形式の Explainer の説明 ID を選択します。\r\n",
        "2. 全体的なグローバル特徴の重要度を示す**特徴の重要度の集計**グラフを表示します。\r\n",
        "3. テスト データの各データ ポイントを示す**個別の特徴の重要度**グラフを表示します。\r\n",
        "4. 個々のポイントを選択すると、選択したデータ ポイントの個々の予測のローカル特徴の重要度が表示されます。\r\n",
        "5. 「**新しいコーホート**」 ボタンを使用して、次の設定でデータのサブセットを定義します。\r\n",
        "    - **データセット コーホートの名前**: Under 25s\r\n",
        "    - **フィルターの選択**: データセット\r\n",
        "        - 年齢 25 歳未満 (新しいコーホートを保存する前にこのフィルターを追加してください)。\r\n",
        "6. 25 歳以上のフィルターを使用して、「**25 and over**」という名前の 2 番目の新しいコーホートを作成します。\r\n",
        "6. **特徴の重要度の集計**の視覚化を確認し、定義した 2 つのコーホートについて、相対的な特徴の重要度を比較します。コーホートを比較する機能により、特徴がデータ設定の複数のサブセットにどのように異なる影響を与えるかを確認することができます。\r\n",
        "\r\n"
      ]
    },
    {
      "cell_type": "markdown",
      "metadata": {},
      "source": [
        "**詳細情報**: Azure ML での Explainer の使用の詳細については、[ドキュメント](https://docs.microsoft.com/azure/machine-learning/how-to-machine-learning-interpretability)を参照してください。 "
      ]
    }
  ],
  "metadata": {
    "kernelspec": {
      "display_name": "Python 3.6 - AzureML",
      "language": "python",
      "name": "python3-azureml"
    },
    "language_info": {
      "codemirror_mode": {
        "name": "ipython",
        "version": 3
      },
      "file_extension": ".py",
      "mimetype": "text/x-python",
      "name": "python",
      "nbconvert_exporter": "python",
      "pygments_lexer": "ipython3",
      "version": "3.6.9"
    }
  },
  "nbformat": 4,
  "nbformat_minor": 2
}