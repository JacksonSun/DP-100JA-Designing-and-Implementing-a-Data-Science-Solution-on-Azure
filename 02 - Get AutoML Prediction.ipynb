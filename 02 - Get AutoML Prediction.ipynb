{
  "cells": [
    {
      "cell_type": "markdown",
      "source": [
        "# 自動 ML エンドポイントから糖尿病の予測を得る\n",
        "\r\n",
        "次のセルのコードを変更して、***ENDPOINT*** と ***PRIMARY_KEY*** を **auto-predict-diabetes** サービスに使用します。次に、セルを実行して新しい患者データを送信し、予測された分類を取得します。 "
      ],
      "metadata": {
        "nteract": {
          "transient": {
            "deleting": false
          }
        }
      }
    },
    {
      "cell_type": "code",
      "source": [
        "endpoint = 'ENDPOINT' #エンドポイントを置き換える\r\n",
        "key = 'PRIMARY_KEY' #キーを置き換える\r\n",
        "\r\n",
        "import json\r\n",
        "import requests\r\n",
        "\r\n",
        "#患者の特徴\n",
        "x = [{\"PatientID\": 1,\r\n",
        "      \"Pregnancies\": 5,\r\n",
        "      \"PlasmaGlucose\": 181.0,\r\n",
        "      \"DiastolicBloodPressure\": 90.6,\r\n",
        "      \"TricepsThickness\": 34.0,\r\n",
        "      \"SerumInsulin\": 23.0,\r\n",
        "      \"BMI\": 43.51,\r\n",
        "      \"DiabetesPedigree\": 1.21,\r\n",
        "      \"Age\": 21.0}]\r\n",
        "\r\n",
        "#\"データ\" JSON オブジェクトを作成する\n",
        "input_json = json.dumps({\"data\": x})\r\n",
        "\r\n",
        "#要求のコンテンツ タイプと認証を設定する\n",
        "headers = {\"Content-Type\":\"application/json\",\r\n",
        "           \"Authorization\":\"Bearer \" + key}\r\n",
        "\r\n",
        "#要求を送信する\n",
        "response = requests.post(endpoint, input_json, headers=headers)\r\n",
        "\r\n",
        "#有効な応答が得られた場合は、予測を表示する\n",
        "if response.status_code == 200:\r\n",
        "    y = json.loads(response.json())\r\n",
        "    #結果の最初の予測を取得する\r\n",
        "    print(\"Prediction:\", y[\"result\"][0])\r\n",
        "    if y[\"result\"][0] == 1:\r\n",
        "        print('Diabetic')\r\n",
        "    else:\r\n",
        "        print(\"Not Diabetic\")\r\n",
        "else:\r\n",
        "    print(response)"
      ],
      "outputs": [],
      "execution_count": null,
      "metadata": {
        "gather": {
          "logged": 1604605071290
        }
      }
    }
  ],
  "metadata": {
    "kernelspec": {
      "name": "python3-azureml",
      "language": "python",
      "display_name": "Python 3.6 - AzureML"
    },
    "language_info": {
      "name": "python",
      "version": "3.6.9",
      "mimetype": "text/x-python",
      "codemirror_mode": {
        "name": "ipython",
        "version": 3
      },
      "pygments_lexer": "ipython3",
      "nbconvert_exporter": "python",
      "file_extension": ".py"
    },
    "kernel_info": {
      "name": "python3-azureml"
    },
    "nteract": {
      "version": "nteract-front-end@1.0.0"
    }
  },
  "nbformat": 4,
  "nbformat_minor": 2
}